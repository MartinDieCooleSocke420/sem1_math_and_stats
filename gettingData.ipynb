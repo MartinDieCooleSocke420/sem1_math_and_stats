{
 "cells": [
  {
   "cell_type": "markdown",
   "metadata": {},
   "source": [
    "# API Call to get data from OpenStreetMap\n",
    "\n",
    "In this notebook Data from the overpass API will be querryed to provide informations about vegan restaurtants in kiel. \n",
    "\n",
    "This Notebook is used to gather the data provited in the restaurants_kiel.csv file.\n",
    "\n",
    "Date of API-Call: 2023-10-10\n",
    "\n",
    "This was inspired by https://github.com/balzer82/OSM2Pandas/blob/master/OSM2Pandas-Kreuzungen.ipynb"
   ]
  },
  {
   "cell_type": "code",
   "execution_count": 27,
   "metadata": {},
   "outputs": [],
   "source": [
    "import pandas as pd\n",
    "import requests"
   ]
  },
  {
   "cell_type": "code",
   "execution_count": 28,
   "metadata": {},
   "outputs": [],
   "source": [
    "# Selecting area arround Kiel\n",
    "bbox = [10.020299,54.232977,10.24498,54.410641]\n",
    "\n",
    "# Links unten\n",
    "minLat = bbox[1]\n",
    "minLon = bbox[0]\n",
    "\n",
    "# Rechts oben\n",
    "maxLat = bbox[3]\n",
    "maxLon = bbox[2]"
   ]
  },
  {
   "cell_type": "code",
   "execution_count": 34,
   "metadata": {},
   "outputs": [],
   "source": [
    "# Tags to querry from OSM\n",
    "tags = ['diet:vegan', 'vegan', 'vegetarian', 'cuisine=vegan', 'organic']\n",
    "\n",
    "compactOverpassQLstring = '[out:json][timeout:60];('\n",
    "\n",
    "# Iterate over vegan-related tags\n",
    "for tag in tags:\n",
    "    compactOverpassQLstring += 'node[\"%s\"=\"yes\"](%s,%s,%s,%s);' % (tag, minLat, minLon, maxLat, maxLon)\n",
    "\n",
    "compactOverpassQLstring += ');out body;>;out skel qt;'\n"
   ]
  },
  {
   "cell_type": "code",
   "execution_count": 30,
   "metadata": {},
   "outputs": [],
   "source": [
    "\n",
    "osmrequest = {'data': compactOverpassQLstring}\n",
    "osmurl = 'http://overpass-api.de/api/interpreter'\n",
    "\n",
    "# Ask the API\n",
    "osm = requests.get(osmurl, params=osmrequest)"
   ]
  },
  {
   "cell_type": "code",
   "execution_count": 31,
   "metadata": {},
   "outputs": [],
   "source": [
    "# Assuming you have the 'osm' variable with your Overpass API results\n",
    "osmdata = osm.json()  # Call the method to get the data\n",
    "\n",
    "# Extract the 'elements' from the data\n",
    "osmdata = osmdata['elements']\n",
    "\n",
    "# Create an empty list to store the data\n",
    "data = []\n",
    "\n",
    "for dct in osmdata:\n",
    "    if 'type' in dct and dct['type'] == 'node':\n",
    "        # Check if the \"diet:vegan\" tag is present and set to \"yes\"\n",
    "        if 'tags' in dct and 'diet:vegan' in dct['tags'] and dct['tags']['diet:vegan'] == 'yes':\n",
    "            node_data = {\n",
    "                'id': dct['id'],\n",
    "                'type': dct['type'],\n",
    "                'lat': dct['lat'],\n",
    "                'lon': dct['lon']\n",
    "            }\n",
    "\n",
    "            # Extract other tags from the dictionary and add them to 'node_data'\n",
    "            for key, val in dct['tags'].items():\n",
    "                node_data[key] = val\n",
    "\n",
    "            data.append(node_data)\n",
    "\n",
    "# Create a DataFrame from the list of dictionaries\n",
    "osmdf = pd.DataFrame(data)\n"
   ]
  },
  {
   "cell_type": "code",
   "execution_count": 35,
   "metadata": {},
   "outputs": [],
   "source": [
    "# Saving the Data in a .csv file\n",
    "osmdf.to_csv(\"data/restaurants_kiel.csv\")"
   ]
  }
 ],
 "metadata": {
  "kernelspec": {
   "display_name": ".venv",
   "language": "python",
   "name": "python3"
  },
  "language_info": {
   "codemirror_mode": {
    "name": "ipython",
    "version": 3
   },
   "file_extension": ".py",
   "mimetype": "text/x-python",
   "name": "python",
   "nbconvert_exporter": "python",
   "pygments_lexer": "ipython3",
   "version": "3.10.12"
  }
 },
 "nbformat": 4,
 "nbformat_minor": 2
}
