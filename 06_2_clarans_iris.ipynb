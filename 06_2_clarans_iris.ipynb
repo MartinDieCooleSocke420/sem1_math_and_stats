{
 "cells": [
  {
   "cell_type": "markdown",
   "id": "fc70a3d5-b3d7-427f-bd7c-9f73777add86",
   "metadata": {},
   "source": [
    "# Clarans on the IRIS Dataset\n",
    "\n",
    "<div class=\"alert alert-block alert-info\">\n",
    "<b>Content:</b> In this notebook, we test and time Clarans using the IRIS dataset.\n",
    "</div>\n",
    "\n"
   ]
  },
  {
   "cell_type": "code",
   "execution_count": null,
   "id": "47f4e565-f203-4aed-8f1a-2c018937a53f",
   "metadata": {
    "collapsed": true,
    "jupyter": {
     "outputs_hidden": true,
     "source_hidden": true
    },
    "tags": []
   },
   "outputs": [],
   "source": [
    "import time\n",
    "import pandas as pd\n",
    "import matplotlib.pyplot as plt\n",
    "\n",
    "from sklearn import datasets\n",
    "from pyclustering.cluster.clarans import clarans"
   ]
  },
  {
   "cell_type": "markdown",
   "id": "71443230-18d5-4578-a67f-38e9572088e1",
   "metadata": {
    "jupyter": {
     "source_hidden": true
    },
    "tags": []
   },
   "source": [
    "# Load IRIS\n",
    "Again we will use only the petal features. \n",
    "This feature selection is just for the purpose of creating a 2D dataset, that can be visualized.\n",
    "This is not something one would normally do!"
   ]
  },
  {
   "cell_type": "code",
   "execution_count": null,
   "id": "d2115efe-8545-49c3-bbf3-7efc3cf86230",
   "metadata": {
    "collapsed": true,
    "jupyter": {
     "outputs_hidden": true,
     "source_hidden": true
    },
    "tags": []
   },
   "outputs": [],
   "source": [
    "iris=pd.read_csv(\"data/iris.csv\")\n",
    "X=iris[['petal_length', 'petal_width']].to_numpy()"
   ]
  },
  {
   "cell_type": "markdown",
   "id": "3ed75aa7-8278-4e98-bb85-41d687042cbe",
   "metadata": {
    "jupyter": {
     "source_hidden": true
    },
    "tags": []
   },
   "source": [
    "Run Clarans on the IRIS Dataset, using only features 2 and 3"
   ]
  },
  {
   "cell_type": "code",
   "execution_count": null,
   "id": "321bc01c-6418-4bcb-b940-d65a22656d61",
   "metadata": {
    "collapsed": true,
    "jupyter": {
     "outputs_hidden": true,
     "source_hidden": true
    },
    "tags": []
   },
   "outputs": [],
   "source": [
    "# Clarans does not offer a parameter for random seed. Internally, random is initialized with system time\n",
    "cla = clarans(X, number_clusters=3, numlocal=10, maxneighbor=10)"
   ]
  },
  {
   "cell_type": "code",
   "execution_count": null,
   "id": "d79913c4-4787-424a-bd8e-ade0e6956cdc",
   "metadata": {
    "collapsed": true,
    "jupyter": {
     "outputs_hidden": true,
     "source_hidden": true
    },
    "tags": []
   },
   "outputs": [],
   "source": [
    "time_start=time.time()\n",
    "cla.process()\n",
    "print(time.time()-time_start) # returns the time in seconds"
   ]
  },
  {
   "cell_type": "code",
   "execution_count": null,
   "id": "7c67839b-2605-4467-98b4-1f2e6fb171f6",
   "metadata": {
    "collapsed": true,
    "jupyter": {
     "outputs_hidden": true,
     "source_hidden": true
    },
    "tags": []
   },
   "outputs": [],
   "source": [
    "cluster_array=cla.get_clusters()\n",
    "len(cluster_array)"
   ]
  },
  {
   "cell_type": "markdown",
   "id": "49d75f5a-8673-4be7-8762-ca4b6a092a33",
   "metadata": {
    "jupyter": {
     "source_hidden": true
    },
    "tags": []
   },
   "source": [
    "Show the distribution of instances over clusters"
   ]
  },
  {
   "cell_type": "code",
   "execution_count": null,
   "id": "666583ae-e911-47a3-a423-76e2afd33486",
   "metadata": {
    "collapsed": true,
    "jupyter": {
     "outputs_hidden": true,
     "source_hidden": true
    },
    "tags": []
   },
   "outputs": [],
   "source": [
    "for i in range(0,len(cluster_array)):\n",
    "    print(\"Cluster \", i, \" has \", len(cluster_array[i]), \" data instances.\")"
   ]
  },
  {
   "cell_type": "markdown",
   "id": "91ea34f5-0a04-4c51-ba5b-ab3969e1f37b",
   "metadata": {
    "jupyter": {
     "source_hidden": true
    },
    "tags": []
   },
   "source": [
    "Print the resulting clustering and medoids"
   ]
  },
  {
   "cell_type": "code",
   "execution_count": null,
   "id": "26e6bb11-6699-4a45-afad-96a0f599630c",
   "metadata": {
    "collapsed": true,
    "jupyter": {
     "outputs_hidden": true,
     "source_hidden": true
    },
    "tags": []
   },
   "outputs": [],
   "source": [
    "cla.get_medoids()"
   ]
  },
  {
   "cell_type": "code",
   "execution_count": null,
   "id": "d2b941a2-9d4d-4974-a109-3379270ffe5d",
   "metadata": {
    "collapsed": true,
    "jupyter": {
     "outputs_hidden": true,
     "source_hidden": true
    },
    "tags": []
   },
   "outputs": [],
   "source": [
    "X[cla.get_medoids(), :]"
   ]
  },
  {
   "cell_type": "code",
   "execution_count": null,
   "id": "5e8c9ac2-ec63-429b-b265-43630012a504",
   "metadata": {
    "collapsed": true,
    "jupyter": {
     "outputs_hidden": true,
     "source_hidden": true
    },
    "tags": []
   },
   "outputs": [],
   "source": [
    "colors=['darkorange', 'darkmagenta', 'dodgerblue']\n",
    "for i in range(0,len(cluster_array)):\n",
    "    plt.scatter(X[cluster_array[i], 0], X[cluster_array[i], 1], c=colors[i], label=i)\n",
    "\n",
    "plt.scatter(X[cla.get_medoids(), 0], X[cla.get_medoids(), 1], s=200,\n",
    "           linewidth=1, facecolors='none', edgecolors='black')"
   ]
  },
  {
   "cell_type": "markdown",
   "id": "bdf35dd4-b65a-4e97-8549-b1fe319bdba6",
   "metadata": {
    "jupyter": {
     "source_hidden": true
    },
    "tags": []
   },
   "source": [
    "<div class=\"alert alert-block alert-info\">\n",
    "<b>Take Aways:</b> \n",
    "\n",
    "* In this notebook, we have run Clarans.\n",
    "* The resulting cluster representatives are indeed members of the dataset -- thus prototypical instances for their clusters.\n",
    "* Runtime is much higher compared to k-means!\n",
    "</div>"
   ]
  },
  {
   "cell_type": "code",
   "execution_count": null,
   "id": "4769c408-cccb-45b8-b816-a5d74cd9486c",
   "metadata": {
    "collapsed": true,
    "jupyter": {
     "outputs_hidden": true,
     "source_hidden": true
    },
    "tags": []
   },
   "outputs": [],
   "source": []
  }
 ],
 "metadata": {
  "kernelspec": {
   "display_name": "evnMMSw23",
   "language": "python",
   "name": "evnmmsw23"
  },
  "language_info": {
   "codemirror_mode": {
    "name": "ipython",
    "version": 3
   },
   "file_extension": ".py",
   "mimetype": "text/x-python",
   "name": "python",
   "nbconvert_exporter": "python",
   "pygments_lexer": "ipython3",
   "version": "3.11.5"
  }
 },
 "nbformat": 4,
 "nbformat_minor": 5
}
